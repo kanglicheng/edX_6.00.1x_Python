{
 "cells": [
  {
   "cell_type": "markdown",
   "metadata": {},
   "source": [
    "Note that problems 1 - 2 were multiple choice and excluded here."
   ]
  },
  {
   "cell_type": "markdown",
   "metadata": {},
   "source": [
    "## Problem 3:  \n",
    "Implement a function that meets the specifications below.\n",
    "\n",
    "```python\n",
    "def sum_digits(s):\n",
    "    \"\"\" assumes s a string\n",
    "        Returns an int that is the sum of all of the digits in s.\n",
    "          If there are no digits in s it raises a ValueError exception. \"\"\"\n",
    "    # Your code here\n",
    "```\n",
    "\n",
    "For example, sum_digits(\"a;35d4\") returns 12."
   ]
  },
  {
   "cell_type": "code",
   "execution_count": 1,
   "metadata": {
    "collapsed": true
   },
   "outputs": [],
   "source": [
    "def sum_digits(s):\n",
    "    \"\"\" assumes s a string\n",
    "        Returns an int that is the sum of all of the digits in s.\n",
    "          If there are no digits in s it raises a ValueError exception. \"\"\"\n",
    "    \n",
    "    DIGITS = '0123456789'\n",
    "    noDigits = True\n",
    "    \n",
    "    sum = 0\n",
    "    for char in s:\n",
    "        if char in DIGITS:\n",
    "            sum += int(char)\n",
    "            noDigits = False\n",
    "    \n",
    "    if noDigits:\n",
    "        raise ValueError('No digits in input string s.')\n",
    "        \n",
    "    return sum"
   ]
  },
  {
   "cell_type": "code",
   "execution_count": 2,
   "metadata": {
    "scrolled": true
   },
   "outputs": [
    {
     "data": {
      "text/plain": [
       "12"
      ]
     },
     "execution_count": 2,
     "metadata": {},
     "output_type": "execute_result"
    }
   ],
   "source": [
    "sum_digits(\"a;35d4\")"
   ]
  },
  {
   "cell_type": "markdown",
   "metadata": {},
   "source": [
    "## Problem 4:  \n",
    "Implement a function that meets the specifications below.\n",
    "\n",
    "```python\n",
    "def max_val(t): \n",
    "    \"\"\" t, tuple or list\n",
    "        Each element of t is either an int, a tuple, or a list\n",
    "        No tuple or list is empty\n",
    "        Returns the maximum int in t or (recursively) in an element of t \"\"\" \n",
    "    # Your code here\n",
    "```\n",
    "\n",
    "For example:  \n",
    "  \n",
    "• max_val((5, (1,2), [[1],[2]])) returns 5.  \n",
    "\n",
    "• max_val((5, (1,2), [[1],[9]])) returns 9."
   ]
  },
  {
   "cell_type": "code",
   "execution_count": 3,
   "metadata": {},
   "outputs": [],
   "source": [
    "def max_val(t): \n",
    "    \"\"\" t, tuple or list\n",
    "        Each element of t is either an int, a tuple, or a list\n",
    "        No tuple or list is empty\n",
    "        Returns the maximum int in t or (recursively) in an element of t \"\"\" \n",
    "    ints = []\n",
    "    \n",
    "    for elmt in t:\n",
    "        if isinstance(elmt, int):\n",
    "            ints.append(elmt)\n",
    "        else:\n",
    "            ints.append(max_val(elmt))\n",
    "    \n",
    "    return max(ints)"
   ]
  },
  {
   "cell_type": "code",
   "execution_count": 4,
   "metadata": {
    "scrolled": false
   },
   "outputs": [
    {
     "data": {
      "text/plain": [
       "9"
      ]
     },
     "execution_count": 4,
     "metadata": {},
     "output_type": "execute_result"
    }
   ],
   "source": [
    "max_val((5, (1,2), [[1],[9]]))"
   ]
  },
  {
   "cell_type": "markdown",
   "metadata": {},
   "source": [
    "## Problem 5:  \n",
    "Implement a function that meets the specifications below.\n",
    "\n",
    "```python\n",
    "def cipher(map_from, map_to, code):\n",
    "    \"\"\" map_from, map_to: strings where each contain \n",
    "                          N unique lowercase letters. \n",
    "        code: string (assume it only contains letters also in map_from)\n",
    "        Returns a tuple of (key_code, decoded).\n",
    "        key_code is a dictionary with N keys mapping str to str where \n",
    "        each key is a letter in map_from at index i and the corresponding \n",
    "        value is the letter in map_to at index i. \n",
    "        decoded is a string that contains the decoded version \n",
    "        of code using the key_code mapping. \"\"\"\n",
    "    # Your code here\n",
    "```\n",
    "\n",
    "For example:  \n",
    "  \n",
    "• cipher(\"abcd\", \"dcba\", \"dab\") returns ({'a':'d', 'b': 'c', 'd': 'a', 'c': 'b'}, 'adc')\n",
    "  \n",
    "*(Note: order of entries in dictionary may not be the same)*"
   ]
  },
  {
   "cell_type": "code",
   "execution_count": 5,
   "metadata": {
    "collapsed": true
   },
   "outputs": [],
   "source": [
    "def cipher(map_from, map_to, code):\n",
    "    \"\"\" map_from, map_to: strings where each contain \n",
    "                          N unique lowercase letters. \n",
    "        code: string (assume it only contains letters also in map_from)\n",
    "        Returns a tuple of (key_code, decoded).\n",
    "        key_code is a dictionary with N keys mapping str to str where \n",
    "        each key is a letter in map_from at index i and the corresponding \n",
    "        value is the letter in map_to at index i. \n",
    "        decoded is a string that contains the decoded version \n",
    "        of code using the key_code mapping. \"\"\"\n",
    "    \n",
    "    mapping = {}\n",
    "    decoded = ''\n",
    "    \n",
    "    for fromChar, toChar in zip(map_from, map_to):\n",
    "        mapping[fromChar] = toChar\n",
    "    \n",
    "    for char in code:\n",
    "        decoded += mapping[char]\n",
    "        \n",
    "    return (mapping, decoded)"
   ]
  },
  {
   "cell_type": "code",
   "execution_count": 6,
   "metadata": {},
   "outputs": [
    {
     "data": {
      "text/plain": [
       "({'a': 'd', 'b': 'c', 'c': 'b', 'd': 'a'}, 'adc')"
      ]
     },
     "execution_count": 6,
     "metadata": {},
     "output_type": "execute_result"
    }
   ],
   "source": [
    "cipher(\"abcd\", \"dcba\", \"dab\")"
   ]
  },
  {
   "cell_type": "markdown",
   "metadata": {},
   "source": [
    "## Problem 6-1:  \n",
    "You are given the following superclass. Do not modify this.\n",
    "\n",
    "```python\n",
    "class Container(object):\n",
    "    \"\"\" Holds hashable objects. Objects may occur 0 or more times \"\"\"\n",
    "    def __init__(self):\n",
    "        \"\"\" Creates a new container with no objects in it. I.e., any object \n",
    "            occurs 0 times in self. \"\"\"\n",
    "        self.vals = {}\n",
    "    def insert(self, e):\n",
    "        \"\"\" assumes e is hashable\n",
    "            Increases the number times e occurs in self by 1. \"\"\"\n",
    "        try:\n",
    "            self.vals[e] += 1\n",
    "        except:\n",
    "            self.vals[e] = 1\n",
    "    def __str__(self):\n",
    "        s = \"\"\n",
    "        for i in sorted(self.vals.keys()):\n",
    "            if self.vals[i] != 0:\n",
    "                s += str(i)+\":\"+str(self.vals[i])+\"\\n\"\n",
    "        return s\n",
    "```\n",
    "\n",
    "Write a class that implements the specifications below. Do not override any methods of Container.\n",
    "\n",
    "```python\n",
    "class Bag(Container):\n",
    "    def remove(self, e):\n",
    "        \"\"\" assumes e is hashable\n",
    "            If e occurs in self, reduces the number of \n",
    "            times it occurs in self by 1. Otherwise does nothing. \"\"\"\n",
    "        # write code here\n",
    "\n",
    "    def count(self, e):\n",
    "        \"\"\" assumes e is hashable\n",
    "            Returns the number of times e occurs in self. \"\"\"\n",
    "        # write code here\n",
    "```\n",
    "\n",
    "For example:  \n",
    "  \n",
    "```python\n",
    "d1 = Bag()\n",
    "d1.insert(4)\n",
    "d1.insert(4)\n",
    "print(d1)\n",
    "d1.remove(2)\n",
    "print(d1)\n",
    "```\n",
    "\n",
    "Prints:\n",
    "\n",
    "```python\n",
    "4:2\n",
    "4:2\n",
    "```\n",
    "\n",
    "And\n",
    "\n",
    "```python\n",
    "d1 = Bag()\n",
    "d1.insert(4)\n",
    "d1.insert(4)\n",
    "d1.insert(4)\n",
    "print(d1.count(2))\n",
    "print(d1.count(4))\n",
    "```\n",
    "\n",
    "Prints:\n",
    "\n",
    "```python\n",
    "0\n",
    "3\n",
    "```"
   ]
  },
  {
   "cell_type": "code",
   "execution_count": 7,
   "metadata": {
    "collapsed": true
   },
   "outputs": [],
   "source": [
    "class Container(object):\n",
    "    \"\"\" Holds hashable objects. Objects may occur 0 or more times \"\"\"\n",
    "    def __init__(self):\n",
    "        \"\"\" Creates a new container with no objects in it. I.e., any object \n",
    "            occurs 0 times in self. \"\"\"\n",
    "        self.vals = {}\n",
    "    def insert(self, e):\n",
    "        \"\"\" assumes e is hashable\n",
    "            Increases the number times e occurs in self by 1. \"\"\"\n",
    "        try:\n",
    "            self.vals[e] += 1\n",
    "        except:\n",
    "            self.vals[e] = 1\n",
    "    def __str__(self):\n",
    "        s = \"\"\n",
    "        for i in sorted(self.vals.keys()):\n",
    "            if self.vals[i] != 0:\n",
    "                s += str(i)+\":\"+str(self.vals[i])+\"\\n\"\n",
    "        return s\n",
    "    \n",
    "class Bag(Container):\n",
    "    def remove(self, e):\n",
    "        \"\"\" assumes e is hashable\n",
    "            If e occurs in self, reduces the number of \n",
    "            times it occurs in self by 1. Otherwise does nothing. \"\"\"\n",
    "        try:\n",
    "            self.vals[e] -= 1\n",
    "        except:\n",
    "            pass\n",
    "\n",
    "    def count(self, e):\n",
    "        \"\"\" assumes e is hashable\n",
    "            Returns the number of times e occurs in self. \"\"\"\n",
    "        try:\n",
    "            return self.vals[e]\n",
    "        except:\n",
    "            return 0"
   ]
  },
  {
   "cell_type": "code",
   "execution_count": 8,
   "metadata": {},
   "outputs": [
    {
     "name": "stdout",
     "output_type": "stream",
     "text": [
      "4:2\n",
      "\n",
      "4:2\n",
      "\n"
     ]
    }
   ],
   "source": [
    "d1 = Bag()\n",
    "d1.insert(4)\n",
    "d1.insert(4)\n",
    "print(d1)\n",
    "d1.remove(2)\n",
    "print(d1)"
   ]
  },
  {
   "cell_type": "code",
   "execution_count": 9,
   "metadata": {},
   "outputs": [
    {
     "name": "stdout",
     "output_type": "stream",
     "text": [
      "0\n",
      "3\n"
     ]
    }
   ],
   "source": [
    "d1 = Bag()\n",
    "d1.insert(4)\n",
    "d1.insert(4)\n",
    "d1.insert(4)\n",
    "print(d1.count(2))\n",
    "print(d1.count(4))"
   ]
  },
  {
   "cell_type": "markdown",
   "metadata": {},
   "source": [
    "## Problem 6-2:  \n",
    "Write a method in Bag such that if b1 and b2 were bags then b1+b2 gives a new bag representing the union of the two bags.\n",
    "\n",
    "For example:  \n",
    "  \n",
    "```python\n",
    "a = Bag()\n",
    "a.insert(4)\n",
    "a.insert(3)\n",
    "b = Bag()\n",
    "b.insert(4)\n",
    "print(a+b)\n",
    "```\n",
    "\n",
    "Prints:\n",
    "\n",
    "```python\n",
    "3:1\n",
    "4:2\n",
    "```"
   ]
  },
  {
   "cell_type": "code",
   "execution_count": 10,
   "metadata": {
    "collapsed": true
   },
   "outputs": [],
   "source": [
    "class Bag(Container):\n",
    "    def remove(self, e):\n",
    "        \"\"\" assumes e is hashable\n",
    "            If e occurs in self, reduces the number of \n",
    "            times it occurs in self by 1. Otherwise does nothing. \"\"\"\n",
    "        try:\n",
    "            self.vals[e] -= 1\n",
    "        except:\n",
    "            pass\n",
    "\n",
    "    def count(self, e):\n",
    "        \"\"\" assumes e is hashable\n",
    "            Returns the number of times e occurs in self. \"\"\"\n",
    "        try:\n",
    "            return self.vals[e]\n",
    "        except:\n",
    "            return 0\n",
    "        \n",
    "    def __add__(self, bag2):\n",
    "        \"\"\"returns union of 2 bags\"\"\"\n",
    "        union = Bag()\n",
    "        for key1 in self.vals.keys():\n",
    "            if key1 in bag2.vals.keys():\n",
    "                union.vals[key1] = self.vals[key1] + bag2.vals[key1]\n",
    "            else:\n",
    "                union.vals[key1] = self.vals[key1]\n",
    "        \n",
    "        for key2 in bag2.vals.keys():\n",
    "            if key2 in union.vals.keys():\n",
    "                pass\n",
    "            else:\n",
    "                union.vals[key2] = bag2.vals[key2]\n",
    "        \n",
    "        return union     "
   ]
  },
  {
   "cell_type": "code",
   "execution_count": 11,
   "metadata": {},
   "outputs": [
    {
     "name": "stdout",
     "output_type": "stream",
     "text": [
      "3:1\n",
      "4:2\n",
      "\n"
     ]
    }
   ],
   "source": [
    "a = Bag()\n",
    "a.insert(4)\n",
    "a.insert(3)\n",
    "b = Bag()\n",
    "b.insert(4)\n",
    "print(a+b)"
   ]
  },
  {
   "cell_type": "markdown",
   "metadata": {},
   "source": [
    "## Problem 6-3:  \n",
    "Write a class that implements the specifications below. Do not override any methods of Container.\n",
    "  \n",
    "```python\n",
    "class ASet(Container):\n",
    "    def remove(self, e):\n",
    "        \"\"\"assumes e is hashable\n",
    "           removes e from self\"\"\"\n",
    "        # write code here\n",
    "\n",
    "    def is_in(self, e):\n",
    "        \"\"\"assumes e is hashable\n",
    "           returns True if e has been inserted in self and\n",
    "           not subsequently removed, and False otherwise.\"\"\"\n",
    "        # write code here\n",
    "```\n",
    "For Example:\n",
    "\n",
    "```python\n",
    "d1 = ASet()\n",
    "d1.insert(4)\n",
    "d1.insert(4)\n",
    "\n",
    "d1.remove(2)\n",
    "print(d1)\n",
    "\n",
    "d1.remove(4)\n",
    "print(d1)\n",
    "```\n",
    "\n",
    "Prints:\n",
    "\n",
    "```python\n",
    "4:2 # from d1.remove(2) print\n",
    "\n",
    "    # (empty) from d1.remove(4) print\n",
    "```\n",
    "\n",
    "And:\n",
    "\n",
    "```python\n",
    "d1 = ASet()\n",
    "d1.insert(4)\n",
    "print(d1.is_in(4))\n",
    "d1.insert(5)\n",
    "print(d1.is_in(5))\n",
    "d1.remove(5)\n",
    "print(d1.is_in(5))\n",
    "```\n",
    "\n",
    "Prints:\n",
    "\n",
    "```python\n",
    "True\n",
    "True\n",
    "False\n",
    "```"
   ]
  },
  {
   "cell_type": "code",
   "execution_count": 12,
   "metadata": {
    "collapsed": true
   },
   "outputs": [],
   "source": [
    "class ASet(Container):\n",
    "    def remove(self, e):\n",
    "        \"\"\"assumes e is hashable\n",
    "           removes e from self\"\"\"\n",
    "        if e in self.vals.keys():\n",
    "            del(self.vals[e])\n",
    "\n",
    "    def is_in(self, e):\n",
    "        \"\"\"assumes e is hashable\n",
    "           returns True if e has been inserted in self and\n",
    "           not subsequently removed, and False otherwise.\"\"\"\n",
    "        if e in self.vals.keys():\n",
    "            return True\n",
    "        else:\n",
    "            return False"
   ]
  },
  {
   "cell_type": "code",
   "execution_count": 13,
   "metadata": {},
   "outputs": [
    {
     "name": "stdout",
     "output_type": "stream",
     "text": [
      "4:2\n",
      "\n",
      "\n"
     ]
    }
   ],
   "source": [
    "d1 = ASet()\n",
    "d1.insert(4)\n",
    "d1.insert(4)\n",
    "\n",
    "d1.remove(2)\n",
    "print(d1)\n",
    "\n",
    "d1.remove(4)\n",
    "print(d1)"
   ]
  },
  {
   "cell_type": "code",
   "execution_count": 14,
   "metadata": {},
   "outputs": [
    {
     "name": "stdout",
     "output_type": "stream",
     "text": [
      "True\n",
      "True\n",
      "False\n"
     ]
    }
   ],
   "source": [
    "d1 = ASet()\n",
    "d1.insert(4)\n",
    "print(d1.is_in(4))\n",
    "d1.insert(5)\n",
    "print(d1.is_in(5))\n",
    "d1.remove(5)\n",
    "print(d1.is_in(5))"
   ]
  }
 ],
 "metadata": {
  "kernelspec": {
   "display_name": "Python 3",
   "language": "python",
   "name": "python3"
  },
  "language_info": {
   "codemirror_mode": {
    "name": "ipython",
    "version": 3
   },
   "file_extension": ".py",
   "mimetype": "text/x-python",
   "name": "python",
   "nbconvert_exporter": "python",
   "pygments_lexer": "ipython3",
   "version": "3.6.0"
  }
 },
 "nbformat": 4,
 "nbformat_minor": 2
}
