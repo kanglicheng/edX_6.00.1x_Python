{
 "cells": [
  {
   "cell_type": "raw",
   "metadata": {},
   "source": [
    "Note that problems 1 - 3 were multiple choice and excluded here."
   ]
  },
  {
   "cell_type": "markdown",
   "metadata": {},
   "source": [
    "## Problem 4:  \n",
    "Write a function is_triangular that meets the specification below. A triangular number is a number obtained by the continued summation of integers starting from 1. For example, 1, 1+2, 1+2+3, 1+2+3+4, etc., corresponding to 1, 3, 6, 10, etc., are triangular numbers. "
   ]
  },
  {
   "cell_type": "raw",
   "metadata": {},
   "source": [
    "Test Cases:\n",
    "1, 2, 3, 4,  5,  6,  7,  8,  9,  10\n",
    "1, 3, 6, 10, 15, 21, 28, 36, 45, 55"
   ]
  },
  {
   "cell_type": "code",
   "execution_count": 86,
   "metadata": {},
   "outputs": [],
   "source": [
    "def is_triangular(k):\n",
    "    \"\"\"\n",
    "    k, a positive integer\n",
    "    returns True if k is triangular and False if not\n",
    "    \"\"\"\n",
    "    import math\n",
    "    \n",
    "    def calculate_triangular(n):\n",
    "        \"\"\"\n",
    "        n, a positive integer\n",
    "        returns sum of positive integers up to and including n\n",
    "        \"\"\"\n",
    "        if n <= 1:\n",
    "            if n <= 0:\n",
    "                return 0\n",
    "            else:\n",
    "                return 1\n",
    "        else:\n",
    "            return calculate_triangular(n - 1) + n\n",
    "        \n",
    "    lower = 1\n",
    "    upper = math.ceil(k/2)\n",
    "    \n",
    "    for candidate in range(lower, upper + 1):\n",
    "        if calculate_triangular(candidate) == k:\n",
    "            return True\n",
    "    \n",
    "    return False"
   ]
  },
  {
   "cell_type": "markdown",
   "metadata": {},
   "source": [
    "## Problem 2:  \n",
    "Write a Python function that takes in a string and prints out a version of this string that does not contain any vowels, according to the specification below. Vowels are uppercase and lowercase 'a', 'e', 'i', 'o', 'u'.\n",
    "\n",
    "For example, if s = \"This is great!\" then print_without_vowels will print Ths s grt!. If s = \"a\" then print_without_vowels will print the empty string ."
   ]
  },
  {
   "cell_type": "code",
   "execution_count": 148,
   "metadata": {},
   "outputs": [],
   "source": [
    "def print_without_vowels(s):\n",
    "    \"\"\"\n",
    "    s: the string to convert\n",
    "    Finds a version of s without vowels and whose characters appear in the \n",
    "    same order they appear in s. Prints this version of s.\n",
    "    Does not return anything\n",
    "    \"\"\"\n",
    "    VOWELS = ('a', 'e', 'i', 'o', 'u', 'A', 'E', 'I', 'O', 'U') # and sometimes y, but not here :)\n",
    "    \n",
    "    sList = list(s)\n",
    "    newS = []\n",
    "    \n",
    "    for char in sList:\n",
    "        if char not in VOWELS:\n",
    "            newS.append(char)\n",
    "    \n",
    "    newS = ''.join(newS)\n",
    "    \n",
    "    print(newS)"
   ]
  },
  {
   "cell_type": "markdown",
   "metadata": {},
   "source": [
    "## Problem 6:  \n",
    "\n",
    "Write a function that satisfies the following docstring:"
   ]
  },
  {
   "cell_type": "raw",
   "metadata": {},
   "source": [
    "def largest_odd_times(L):\n",
    "    \"\"\" Assumes L is a non-empty list of ints\n",
    "        Returns the largest element of L that occurs an odd number \n",
    "        of times in L. If no such element exists, returns None \"\"\"\n",
    "    # Your code here"
   ]
  },
  {
   "cell_type": "markdown",
   "metadata": {},
   "source": [
    "For example, if:"
   ]
  },
  {
   "cell_type": "raw",
   "metadata": {},
   "source": [
    "largest_odd_times([2,2,4,4]) returns None  \n",
    "largest_odd_times([3,9,5,3,5,3]) returns 9"
   ]
  },
  {
   "cell_type": "code",
   "execution_count": 180,
   "metadata": {
    "collapsed": true
   },
   "outputs": [],
   "source": [
    "def largest_odd_times(L):\n",
    "    \"\"\" \n",
    "    Assumes L is a non-empty list of ints\n",
    "    Returns the largest element of L that occurs an odd number \n",
    "    of times in L. If no such element exists, returns None\n",
    "    \"\"\"\n",
    "    \n",
    "    def odd_times(L, el):\n",
    "        \"\"\"\n",
    "        Assumes L is a non-empty list of ints\n",
    "        Returns True if el occurs an odd number of times in L, false otherwise\n",
    "        \"\"\"\n",
    "        return L.count(el) % 2 != 0\n",
    "    \n",
    "    for item in sorted(L, reverse=True):\n",
    "        if odd_times(L, item):\n",
    "            return item"
   ]
  },
  {
   "cell_type": "markdown",
   "metadata": {},
   "source": [
    "# Problem 7:\n",
    "Write a function called dict_invert that takes in a dictionary with immutable values and returns the inverse of the dictionary. The inverse of a dictionary d is another dictionary whose keys are the unique dictionary values in d. The value for a key in the inverse dictionary is a sorted list (increasing order) of all keys in d that have the same value in d.\n",
    "\n",
    "Here are two examples:"
   ]
  },
  {
   "cell_type": "raw",
   "metadata": {},
   "source": [
    "If d = {1:10, 2:20, 3:30} then dict_invert(d) returns {10: [1], 20: [2], 30: [3]}\n",
    "If d = {1:10, 2:20, 3:30, 4:30} then dict_invert(d) returns {10: [1], 20: [2], 30: [3, 4]}\n",
    "If d = {4:True, 2:True, 0:True} then dict_invert(d) returns {True: [0, 2, 4]}"
   ]
  },
  {
   "cell_type": "code",
   "execution_count": 207,
   "metadata": {},
   "outputs": [],
   "source": [
    "def dict_invert(d):\n",
    "    '''\n",
    "    d: dict\n",
    "    Returns an inverted dictionary according to the instructions above\n",
    "    '''\n",
    "    newDict = {}\n",
    "    \n",
    "    for key, val in zip(d.keys(), d.values()):        \n",
    "        if val not in newDict.keys():\n",
    "            newDict[val] = []\n",
    "            \n",
    "        newDict[val].append(key)\n",
    "        newDict[val].sort()\n",
    "        \n",
    "    return newDict"
   ]
  },
  {
   "cell_type": "code",
   "execution_count": 208,
   "metadata": {},
   "outputs": [
    {
     "name": "stdout",
     "output_type": "stream",
     "text": [
      "4 True\n",
      "2 True\n",
      "0 True\n"
     ]
    },
    {
     "data": {
      "text/plain": [
       "{True: [0, 2, 4]}"
      ]
     },
     "execution_count": 208,
     "metadata": {},
     "output_type": "execute_result"
    }
   ],
   "source": [
    "d = {4:True, 2:True, 0:True}\n",
    "dict_invert(d)"
   ]
  }
 ],
 "metadata": {
  "kernelspec": {
   "display_name": "Python 3",
   "language": "python",
   "name": "python3"
  },
  "language_info": {
   "codemirror_mode": {
    "name": "ipython",
    "version": 3
   },
   "file_extension": ".py",
   "mimetype": "text/x-python",
   "name": "python",
   "nbconvert_exporter": "python",
   "pygments_lexer": "ipython3",
   "version": "3.6.0"
  }
 },
 "nbformat": 4,
 "nbformat_minor": 2
}
