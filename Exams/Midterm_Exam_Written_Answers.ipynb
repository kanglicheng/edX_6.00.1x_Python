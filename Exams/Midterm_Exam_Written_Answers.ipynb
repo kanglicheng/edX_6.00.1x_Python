{
 "cells": [
  {
   "cell_type": "raw",
   "metadata": {},
   "source": [
    "Note that problems 1 - 3 were multiple choice and excluded here."
   ]
  },
  {
   "cell_type": "markdown",
   "metadata": {},
   "source": [
    "## Problem 4:  \n",
    "Write a function is_triangular that meets the specification below. A triangular number is a number obtained by the continued summation of integers starting from 1. For example, 1, 1+2, 1+2+3, 1+2+3+4, etc., corresponding to 1, 3, 6, 10, etc., are triangular numbers. "
   ]
  },
  {
   "cell_type": "raw",
   "metadata": {},
   "source": [
    "Test Cases:\n",
    "1, 2, 3, 4,  5,  6,  7,  8,  9,  10\n",
    "1, 3, 6, 10, 15, 21, 28, 36, 45, 55"
   ]
  },
  {
   "cell_type": "code",
   "execution_count": 1,
   "metadata": {
    "collapsed": true
   },
   "outputs": [],
   "source": [
    "def is_triangular(k):\n",
    "    \"\"\"\n",
    "    k, a positive integer\n",
    "    returns True if k is triangular and False if not\n",
    "    \"\"\"\n",
    "    import math\n",
    "    \n",
    "    def calculate_triangular(n):\n",
    "        \"\"\"\n",
    "        n, a positive integer\n",
    "        returns sum of positive integers up to and including n\n",
    "        \"\"\"\n",
    "        if n <= 1:\n",
    "            if n <= 0:\n",
    "                return 0\n",
    "            else:\n",
    "                return 1\n",
    "        else:\n",
    "            return calculate_triangular(n - 1) + n\n",
    "        \n",
    "    lower = 1\n",
    "    upper = math.ceil(k/2)\n",
    "    \n",
    "    for candidate in range(lower, upper + 1):\n",
    "        if calculate_triangular(candidate) == k:\n",
    "            return True\n",
    "    \n",
    "    return False"
   ]
  },
  {
   "cell_type": "markdown",
   "metadata": {},
   "source": [
    "## Problem 2:  \n",
    "Write a Python function that takes in a string and prints out a version of this string that does not contain any vowels, according to the specification below. Vowels are uppercase and lowercase 'a', 'e', 'i', 'o', 'u'.\n",
    "\n",
    "For example, if s = \"This is great!\" then print_without_vowels will print Ths s grt!. If s = \"a\" then print_without_vowels will print the empty string ."
   ]
  },
  {
   "cell_type": "code",
   "execution_count": 2,
   "metadata": {
    "collapsed": true
   },
   "outputs": [],
   "source": [
    "def print_without_vowels(s):\n",
    "    \"\"\"\n",
    "    s: the string to convert\n",
    "    Finds a version of s without vowels and whose characters appear in the \n",
    "    same order they appear in s. Prints this version of s.\n",
    "    Does not return anything\n",
    "    \"\"\"\n",
    "    VOWELS = ('a', 'e', 'i', 'o', 'u', 'A', 'E', 'I', 'O', 'U') # and sometimes y, but not here :)\n",
    "    \n",
    "    sList = list(s)\n",
    "    newS = []\n",
    "    \n",
    "    for char in sList:\n",
    "        if char not in VOWELS:\n",
    "            newS.append(char)\n",
    "    \n",
    "    newS = ''.join(newS)\n",
    "    \n",
    "    print(newS)"
   ]
  },
  {
   "cell_type": "markdown",
   "metadata": {},
   "source": [
    "## Problem 6:  \n",
    "\n",
    "Write a function that satisfies the following docstring:"
   ]
  },
  {
   "cell_type": "raw",
   "metadata": {},
   "source": [
    "def largest_odd_times(L):\n",
    "    \"\"\" Assumes L is a non-empty list of ints\n",
    "        Returns the largest element of L that occurs an odd number \n",
    "        of times in L. If no such element exists, returns None \"\"\"\n",
    "    # Your code here"
   ]
  },
  {
   "cell_type": "markdown",
   "metadata": {},
   "source": [
    "For example, if:"
   ]
  },
  {
   "cell_type": "raw",
   "metadata": {},
   "source": [
    "largest_odd_times([2,2,4,4]) returns None  \n",
    "largest_odd_times([3,9,5,3,5,3]) returns 9"
   ]
  },
  {
   "cell_type": "code",
   "execution_count": 3,
   "metadata": {
    "collapsed": true
   },
   "outputs": [],
   "source": [
    "def largest_odd_times(L):\n",
    "    \"\"\" \n",
    "    Assumes L is a non-empty list of ints\n",
    "    Returns the largest element of L that occurs an odd number \n",
    "    of times in L. If no such element exists, returns None\n",
    "    \"\"\"\n",
    "    \n",
    "    def odd_times(L, el):\n",
    "        \"\"\"\n",
    "        Assumes L is a non-empty list of ints\n",
    "        Returns True if el occurs an odd number of times in L, false otherwise\n",
    "        \"\"\"\n",
    "        return L.count(el) % 2 != 0\n",
    "    \n",
    "    for item in sorted(L, reverse=True):\n",
    "        if odd_times(L, item):\n",
    "            return item"
   ]
  },
  {
   "cell_type": "markdown",
   "metadata": {},
   "source": [
    "# Problem 7:\n",
    "Write a function called dict_invert that takes in a dictionary with immutable values and returns the inverse of the dictionary. The inverse of a dictionary d is another dictionary whose keys are the unique dictionary values in d. The value for a key in the inverse dictionary is a sorted list (increasing order) of all keys in d that have the same value in d.\n",
    "\n",
    "Here are two examples:"
   ]
  },
  {
   "cell_type": "raw",
   "metadata": {},
   "source": [
    "If d = {1:10, 2:20, 3:30} then dict_invert(d) returns {10: [1], 20: [2], 30: [3]}\n",
    "If d = {1:10, 2:20, 3:30, 4:30} then dict_invert(d) returns {10: [1], 20: [2], 30: [3, 4]}\n",
    "If d = {4:True, 2:True, 0:True} then dict_invert(d) returns {True: [0, 2, 4]}"
   ]
  },
  {
   "cell_type": "code",
   "execution_count": 4,
   "metadata": {
    "collapsed": true
   },
   "outputs": [],
   "source": [
    "def dict_invert(d):\n",
    "    '''\n",
    "    d: dict\n",
    "    Returns an inverted dictionary according to the instructions above\n",
    "    '''\n",
    "    newDict = {}\n",
    "    \n",
    "    for key, val in zip(d.keys(), d.values()):        \n",
    "        if val not in newDict.keys():\n",
    "            newDict[val] = []\n",
    "            \n",
    "        newDict[val].append(key)\n",
    "        newDict[val].sort()\n",
    "        \n",
    "    return newDict"
   ]
  },
  {
   "cell_type": "markdown",
   "metadata": {},
   "source": [
    "## Problem 8:\n",
    "Write a function called general_poly, that meets the specifications below. For example, general_poly([1, 2, 3, 4])(10) should evaluate to 1234 because 1∗10^3+2∗10^2+3∗10^1+4∗10^0."
   ]
  },
  {
   "cell_type": "code",
   "execution_count": 5,
   "metadata": {
    "collapsed": true
   },
   "outputs": [],
   "source": [
    "def general_poly (L):\n",
    "    \"\"\" L, a list of numbers (n0, n1, n2, ... nk)\n",
    "    Returns a function, which when applied to a value x, returns the value \n",
    "    n0 * x^k + n1 * x^(k-1) + ... nk * x^0 \"\"\"\n",
    "    \n",
    "    def eval_poly(base):\n",
    "        result = 0\n",
    "        exp = len(L) - 1\n",
    "        \n",
    "        for l in L:\n",
    "            result += l * base**exp\n",
    "            exp -= 1\n",
    "            \n",
    "        return result\n",
    "    \n",
    "    return eval_poly"
   ]
  },
  {
   "cell_type": "markdown",
   "metadata": {},
   "source": [
    "## Problem 9:\n",
    "Write a Python function that takes in two lists and calculates whether they are permutations of each other. The lists can contain both integers and strings. We define a permutation as follows:\n",
    "\n",
    "$\\bullet$ the lists have the same number of elements  \n",
    "$\\bullet$ list elements appear the same number of times in both lists  \n",
    "\n",
    "If the lists are not permutations of each other, the function returns False.  \n",
    "If they are permutations of each other, the function returns a tuple consisting of the following elements:\n",
    "\n",
    "$\\bullet$ the element occuring the most times  \n",
    "$\\bullet$ how many times that element occurs  \n",
    "$\\bullet$ the type of the element that occurs the most times  \n",
    "\n",
    "If both lists are empty return the tuple (None, None, None). If more than one element occurs the most number of times, you can return any of them.\n",
    "<br><br>\n",
    "\n",
    "*For example:  *"
   ]
  },
  {
   "cell_type": "raw",
   "metadata": {},
   "source": [
    "if L1 = ['a', 'a', 'b'] and L2 = ['a', 'b'] then is_list_permutation returns False  \n",
    "  \n",
    "if L1 = [1, 'b', 1, 'c', 'c', 1] and L2 = ['c', 1, 'b', 1, 1, 'c'] then is_list_permutation returns (1, 3, <class 'int'>) because the integer 1 occurs the most, 3 times, and the type of 1 is an integer (note that the third element in the tuple is not a string)."
   ]
  },
  {
   "cell_type": "code",
   "execution_count": 7,
   "metadata": {
    "collapsed": true
   },
   "outputs": [],
   "source": [
    "def is_list_permutation(L1, L2):\n",
    "    '''\n",
    "    L1 and L2: lists containing integers and strings\n",
    "    Returns False if L1 and L2 are not permutations of each other. \n",
    "            If they are permutations of each other, returns a \n",
    "            tuple of 3 items in this order: \n",
    "            the element occurring most, how many times it occurs, and its type\n",
    "    '''\n",
    "    if len(L1) == 0 and len(L2) == 0:\n",
    "        return (None, None, None)\n",
    "    \n",
    "    if len(L1) != len(L2):\n",
    "        return False\n",
    "    \n",
    "    mostItem = None\n",
    "    countMostItem = None\n",
    "    \n",
    "    for item1 in L1:\n",
    "        if L1.count(item1) != L2.count(item1):\n",
    "            return False\n",
    "        \n",
    "    for item1 in L1:\n",
    "        if countMostItem == None:\n",
    "            countMostItem = L1.count(item1)\n",
    "            mostItem = item1\n",
    "            \n",
    "        elif countMostItem < L1.count(item1):\n",
    "            countMostItem = L1.count(item1)\n",
    "            mostItem = item1\n",
    "        \n",
    "    return (mostItem, countMostItem, type(mostItem))"
   ]
  }
 ],
 "metadata": {
  "kernelspec": {
   "display_name": "Python 3",
   "language": "python",
   "name": "python3"
  },
  "language_info": {
   "codemirror_mode": {
    "name": "ipython",
    "version": 3
   },
   "file_extension": ".py",
   "mimetype": "text/x-python",
   "name": "python",
   "nbconvert_exporter": "python",
   "pygments_lexer": "ipython3",
   "version": "3.6.0"
  }
 },
 "nbformat": 4,
 "nbformat_minor": 2
}
