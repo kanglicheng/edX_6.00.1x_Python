{
 "cells": [
  {
   "cell_type": "markdown",
   "metadata": {},
   "source": [
    "Note that problems 1 - 2 were multiple choice and excluded here."
   ]
  },
  {
   "cell_type": "markdown",
   "metadata": {},
   "source": [
    "## Problem 3:  \n",
    "Implement a function that meets the specifications below.\n",
    "\n",
    "```python\n",
    "def sum_digits(s):\n",
    "    \"\"\" assumes s a string\n",
    "        Returns an int that is the sum of all of the digits in s.\n",
    "          If there are no digits in s it raises a ValueError exception. \"\"\"\n",
    "    # Your code here\n",
    "```\n",
    "\n",
    "For example, sum_digits(\"a;35d4\") returns 12."
   ]
  },
  {
   "cell_type": "code",
   "execution_count": 1,
   "metadata": {
    "collapsed": true
   },
   "outputs": [],
   "source": [
    "def sum_digits(s):\n",
    "    \"\"\" assumes s a string\n",
    "        Returns an int that is the sum of all of the digits in s.\n",
    "          If there are no digits in s it raises a ValueError exception. \"\"\"\n",
    "    \n",
    "    DIGITS = '0123456789'\n",
    "    noDigits = True\n",
    "    \n",
    "    sum = 0\n",
    "    for char in s:\n",
    "        if char in DIGITS:\n",
    "            sum += int(char)\n",
    "            noDigits = False\n",
    "    \n",
    "    if noDigits:\n",
    "        raise ValueError('No digits in input string s.')\n",
    "        \n",
    "    return sum"
   ]
  },
  {
   "cell_type": "code",
   "execution_count": 2,
   "metadata": {
    "scrolled": true
   },
   "outputs": [
    {
     "data": {
      "text/plain": [
       "12"
      ]
     },
     "execution_count": 2,
     "metadata": {},
     "output_type": "execute_result"
    }
   ],
   "source": [
    "sum_digits(\"a;35d4\")"
   ]
  },
  {
   "cell_type": "markdown",
   "metadata": {},
   "source": [
    "## Problem 4:  \n",
    "Implement a function that meets the specifications below.\n",
    "\n",
    "```python\n",
    "def max_val(t): \n",
    "    \"\"\" t, tuple or list\n",
    "        Each element of t is either an int, a tuple, or a list\n",
    "        No tuple or list is empty\n",
    "        Returns the maximum int in t or (recursively) in an element of t \"\"\" \n",
    "    # Your code here\n",
    "```\n",
    "\n",
    "For example:  \n",
    "  \n",
    "• max_val((5, (1,2), [[1],[2]])) returns 5.  \n",
    "\n",
    "• max_val((5, (1,2), [[1],[9]])) returns 9."
   ]
  },
  {
   "cell_type": "code",
   "execution_count": 3,
   "metadata": {},
   "outputs": [],
   "source": [
    "def max_val(t): \n",
    "    \"\"\" t, tuple or list\n",
    "        Each element of t is either an int, a tuple, or a list\n",
    "        No tuple or list is empty\n",
    "        Returns the maximum int in t or (recursively) in an element of t \"\"\" \n",
    "    ints = []\n",
    "    \n",
    "    for elmt in t:\n",
    "        if isinstance(elmt, int):\n",
    "            ints.append(elmt)\n",
    "        else:\n",
    "            ints.append(max_val(elmt))\n",
    "    \n",
    "    return max(ints)"
   ]
  },
  {
   "cell_type": "code",
   "execution_count": 4,
   "metadata": {
    "scrolled": false
   },
   "outputs": [
    {
     "data": {
      "text/plain": [
       "9"
      ]
     },
     "execution_count": 4,
     "metadata": {},
     "output_type": "execute_result"
    }
   ],
   "source": [
    "max_val((5, (1,2), [[1],[9]]))"
   ]
  },
  {
   "cell_type": "markdown",
   "metadata": {},
   "source": [
    "## Problem 5:  \n",
    "Implement a function that meets the specifications below.\n",
    "\n",
    "```python\n",
    "def cipher(map_from, map_to, code):\n",
    "    \"\"\" map_from, map_to: strings where each contain \n",
    "                          N unique lowercase letters. \n",
    "        code: string (assume it only contains letters also in map_from)\n",
    "        Returns a tuple of (key_code, decoded).\n",
    "        key_code is a dictionary with N keys mapping str to str where \n",
    "        each key is a letter in map_from at index i and the corresponding \n",
    "        value is the letter in map_to at index i. \n",
    "        decoded is a string that contains the decoded version \n",
    "        of code using the key_code mapping. \"\"\"\n",
    "    # Your code here\n",
    "```\n",
    "\n",
    "For example:  \n",
    "  \n",
    "• cipher(\"abcd\", \"dcba\", \"dab\") returns ({'a':'d', 'b': 'c', 'd': 'a', 'c': 'b'}, 'adc')\n",
    "  \n",
    "*(Note: order of entries in dictionary may not be the same)*"
   ]
  },
  {
   "cell_type": "code",
   "execution_count": 5,
   "metadata": {
    "collapsed": true
   },
   "outputs": [],
   "source": [
    "def cipher(map_from, map_to, code):\n",
    "    \"\"\" map_from, map_to: strings where each contain \n",
    "                          N unique lowercase letters. \n",
    "        code: string (assume it only contains letters also in map_from)\n",
    "        Returns a tuple of (key_code, decoded).\n",
    "        key_code is a dictionary with N keys mapping str to str where \n",
    "        each key is a letter in map_from at index i and the corresponding \n",
    "        value is the letter in map_to at index i. \n",
    "        decoded is a string that contains the decoded version \n",
    "        of code using the key_code mapping. \"\"\"\n",
    "    \n",
    "    mapping = {}\n",
    "    decoded = ''\n",
    "    \n",
    "    for fromChar, toChar in zip(map_from, map_to):\n",
    "        mapping[fromChar] = toChar\n",
    "    \n",
    "    for char in code:\n",
    "        decoded += mapping[char]\n",
    "        \n",
    "    return (mapping, decoded)"
   ]
  },
  {
   "cell_type": "code",
   "execution_count": 6,
   "metadata": {},
   "outputs": [
    {
     "data": {
      "text/plain": [
       "({'a': 'd', 'b': 'c', 'c': 'b', 'd': 'a'}, 'adc')"
      ]
     },
     "execution_count": 6,
     "metadata": {},
     "output_type": "execute_result"
    }
   ],
   "source": [
    "cipher(\"abcd\", \"dcba\", \"dab\")"
   ]
  }
 ],
 "metadata": {
  "kernelspec": {
   "display_name": "Python 3",
   "language": "python",
   "name": "python3"
  },
  "language_info": {
   "codemirror_mode": {
    "name": "ipython",
    "version": 3
   },
   "file_extension": ".py",
   "mimetype": "text/x-python",
   "name": "python",
   "nbconvert_exporter": "python",
   "pygments_lexer": "ipython3",
   "version": "3.6.0"
  }
 },
 "nbformat": 4,
 "nbformat_minor": 2
}
