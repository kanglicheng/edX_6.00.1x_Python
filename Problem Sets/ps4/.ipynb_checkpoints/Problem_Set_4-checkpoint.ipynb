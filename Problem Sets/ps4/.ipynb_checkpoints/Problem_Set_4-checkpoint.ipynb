{
 "cells": [
  {
   "cell_type": "markdown",
   "metadata": {},
   "source": [
    "# MITx 6.00.1x: Problem Set 4  \n",
    "Author: Leo Robinovitch"
   ]
  },
  {
   "cell_type": "markdown",
   "metadata": {},
   "source": [
    "## Problem Set Summary: Play the Game"
   ]
  },
  {
   "cell_type": "code",
   "execution_count": null,
   "metadata": {},
   "outputs": [],
   "source": [
    "from ps4b import *\n",
    "\n",
    "if __name__ == '__main__':\n",
    "    wordList = loadWords()\n",
    "    playGame(wordList)"
   ]
  },
  {
   "cell_type": "markdown",
   "metadata": {},
   "source": [
    "## Introduction:\n",
    "In this problem set, you'll implement two versions of a wordgame!\n",
    "\n",
    "Don't be intimidated by the length of this problem set. There is a lot of reading, but it can be done with a reasonable amount of thinking and coding. It'll be helpful if you start this problem set a few days before it is due!\n",
    "\n",
    "Let's begin by describing the 6.00 wordgame: This game is a lot like Scrabble or Words With Friends, if you've played those. Letters are dealt to players, who then construct one or more words out of their letters. Each valid word receives a score, based on the length of the word and the letters in that word.\n",
    "\n",
    "The rules of the game are as follows:\n",
    "\n",
    "Dealing\n",
    "A player is dealt a hand of n letters chosen at random (assume n=7 for now).\n",
    "\n",
    "The player arranges the hand into as many words as they want out of the letters, using each letter at most once.\n",
    "\n",
    "Some letters may remain unused (these won't be scored).\n",
    "\n",
    "Scoring\n",
    "The score for the hand is the sum of the scores for each word formed.\n",
    "\n",
    "The score for a word is the sum of the points for letters in the word, multiplied by the length of the word, plus 50 points if all n letters are used on the first word created.\n",
    "\n",
    "Letters are scored as in Scrabble; A is worth 1, B is worth 3, C is worth 3, D is worth 2, E is worth 1, and so on. We have defined the dictionary SCRABBLE_LETTER_VALUES that maps each lowercase letter to its Scrabble letter value.\n",
    "\n",
    "For example, 'weed' would be worth 32 points ((4+1+1+2) for the four letters, then multiply by len('weed') to get (4+1+1+2)*4 = 32). Be sure to check that the hand actually has 1 'w', 2 'e's, and 1 'd' before scoring the word!\n",
    "\n",
    "As another example, if n=7 and you make the word 'waybill' on the first try, it would be worth 155 points (the base score for 'waybill' is (4+1+4+3+1+1+1)*7=105, plus an additional 50 point bonus for using all n letters)."
   ]
  },
  {
   "cell_type": "markdown",
   "metadata": {},
   "source": [
    "## Problem 1: Word Scores"
   ]
  },
  {
   "cell_type": "code",
   "execution_count": null,
   "metadata": {
    "collapsed": true
   },
   "outputs": [],
   "source": [
    "def getWordScore(word, n):\n",
    "    \"\"\"\n",
    "    Returns the score for a word. Assumes the word is a valid word.\n",
    "\n",
    "    The score for a word is the sum of the points for letters in the\n",
    "    word, multiplied by the length of the word, PLUS 50 points if all n\n",
    "    letters are used on the first turn.\n",
    "\n",
    "    Letters are scored as in Scrabble; A is worth 1, B is worth 3, C is\n",
    "    worth 3, D is worth 2, E is worth 1, and so on (see SCRABBLE_LETTER_VALUES)\n",
    "\n",
    "    word: string (lowercase letters)\n",
    "    n: integer (HAND_SIZE; i.e., hand size required for additional points)\n",
    "    returns: int >= 0\n",
    "    \"\"\"\n",
    "    pointSum = 0\n",
    "    score = 0\n",
    "    \n",
    "    for letter in word:\n",
    "        pointSum += SCRABBLE_LETTER_VALUES[letter.lower()]\n",
    "    \n",
    "    score = pointSum * len(word)\n",
    "    \n",
    "    if len(word) == n:\n",
    "        score += 50\n",
    "    \n",
    "    return score"
   ]
  },
  {
   "cell_type": "markdown",
   "metadata": {},
   "source": [
    "## Problem 2: Dealing with Hands"
   ]
  },
  {
   "cell_type": "code",
   "execution_count": null,
   "metadata": {
    "collapsed": true
   },
   "outputs": [],
   "source": [
    "def updateHand(hand, word):\n",
    "    \"\"\"\n",
    "    Assumes that 'hand' has all the letters in word.\n",
    "    In other words, this assumes that however many times\n",
    "    a letter appears in 'word', 'hand' has at least as\n",
    "    many of that letter in it. \n",
    "\n",
    "    Updates the hand: uses up the letters in the given word\n",
    "    and returns the new hand, without those letters in it.\n",
    "\n",
    "    Has no side effects: does not modify hand.\n",
    "\n",
    "    word: string\n",
    "    hand: dictionary (string -> int)    \n",
    "    returns: dictionary (string -> int)\n",
    "    \"\"\"\n",
    "    handCopy = hand.copy()\n",
    "    for letter in word:\n",
    "        handCopy[letter] = handCopy.get(letter, 1) - 1\n",
    "    \n",
    "    return handCopy"
   ]
  },
  {
   "cell_type": "markdown",
   "metadata": {},
   "source": [
    "## Problem 3: Valid Words"
   ]
  },
  {
   "cell_type": "code",
   "execution_count": null,
   "metadata": {
    "collapsed": true
   },
   "outputs": [],
   "source": [
    "def isValidWord(word, hand, wordList):\n",
    "    \"\"\"\n",
    "    Returns True if word is in the wordList and is entirely\n",
    "    composed of letters in the hand. Otherwise, returns False.\n",
    "\n",
    "    Does not mutate hand or wordList.\n",
    "   \n",
    "    word: string\n",
    "    hand: dictionary (string -> int)\n",
    "    wordList: list of lowercase strings\n",
    "    \"\"\"\n",
    "    if word not in wordList:\n",
    "        return False\n",
    "    \n",
    "    for letter in word:\n",
    "        if hand.get(letter, 0) < word.count(letter):\n",
    "            return False\n",
    "        \n",
    "    return True"
   ]
  },
  {
   "cell_type": "markdown",
   "metadata": {},
   "source": [
    "## Problem 4: Hand Length"
   ]
  },
  {
   "cell_type": "code",
   "execution_count": null,
   "metadata": {
    "collapsed": true
   },
   "outputs": [],
   "source": [
    "def calculateHandlen(hand):\n",
    "    \"\"\" \n",
    "    Returns the length (number of letters) in the current hand.\n",
    "    \n",
    "    hand: dictionary (string int)\n",
    "    returns: integer\n",
    "    \"\"\"\n",
    "    lenHand = 0\n",
    "    \n",
    "    for key in hand.keys():\n",
    "        lenHand += hand[key]\n",
    "    \n",
    "    return lenHand"
   ]
  },
  {
   "cell_type": "markdown",
   "metadata": {},
   "source": [
    "## Problem 5: Playing a Hand"
   ]
  },
  {
   "cell_type": "code",
   "execution_count": null,
   "metadata": {
    "collapsed": true
   },
   "outputs": [],
   "source": [
    "def playHand(hand, wordList, n):\n",
    "    \"\"\"\n",
    "    Allows the user to play the given hand, as follows:\n",
    "\n",
    "    * The hand is displayed.\n",
    "    * The user may input a word or a single period (the string \".\") \n",
    "      to indicate they're done playing\n",
    "    * Invalid words are rejected, and a message is displayed asking\n",
    "      the user to choose another word until they enter a valid word or \".\"\n",
    "    * When a valid word is entered, it uses up letters from the hand.\n",
    "    * After every valid word: the score for that word is displayed,\n",
    "      the remaining letters in the hand are displayed, and the user\n",
    "      is asked to input another word.\n",
    "    * The sum of the word scores is displayed when the hand finishes.\n",
    "    * The hand finishes when there are no more unused letters or the user\n",
    "      inputs a \".\"\n",
    "\n",
    "      hand: dictionary (string -> int)\n",
    "      wordList: list of lowercase strings\n",
    "      n: integer (HAND_SIZE; i.e., hand size required for additional points)\n",
    "      \n",
    "    \"\"\"\n",
    "    # Keep track of the total score\n",
    "    totalScore = 0\n",
    "    \n",
    "    # As long as there are still letters left in the hand:\n",
    "    while calculateHandlen(hand) > 0:\n",
    "        # Display the hand\n",
    "        print('Current Hand:', end=' ')\n",
    "        displayHand(hand)\n",
    "        # Ask user for input\n",
    "        word = input('Enter word, or a \".\" to indicate that you are finished: ')\n",
    "        # If the input is a single period:\n",
    "        if word == '.':\n",
    "            # End the game (break out of the loop)\n",
    "            break\n",
    "            \n",
    "        # Otherwise (the input is not a single period):\n",
    "        else:\n",
    "            # If the word is not valid:\n",
    "            if not isValidWord(word, hand, wordList):\n",
    "                # Reject invalid word (print a message followed by a blank line)\n",
    "                print('Invalid word, please try again.', '\\n')\n",
    "            # Otherwise (the word is valid):\n",
    "            else:\n",
    "                # Tell the user how many points the word earned, and the updated total score, in one line followed by a blank line\n",
    "                totalScore += getWordScore(word, n)\n",
    "                print(word + ' earned ' + str(getWordScore(word, n)) + ' points. Total: ' + str(totalScore) + ' points', '\\n')\n",
    "                # Update the hand \n",
    "                hand = updateHand(hand, word)\n",
    "\n",
    "    # Game is over (user entered a '.' or ran out of letters), so tell user the total score\n",
    "    if word == '.':\n",
    "        print('Goodbye! Total score: ' + str(totalScore) + ' points.')\n",
    "    else:\n",
    "        print('Run out of letters. Total score: ' + str(totalScore) + ' points.') "
   ]
  },
  {
   "cell_type": "markdown",
   "metadata": {},
   "source": [
    "## Problem 6: Playing a Game"
   ]
  },
  {
   "cell_type": "code",
   "execution_count": null,
   "metadata": {
    "collapsed": true
   },
   "outputs": [],
   "source": [
    "def playGame(wordList):\n",
    "    \"\"\"\n",
    "    Allow the user to play an arbitrary number of hands.\n",
    " \n",
    "    1) Asks the user to input 'n' or 'r' or 'e'.\n",
    "      * If the user inputs 'n', let the user play a new (random) hand.\n",
    "      * If the user inputs 'r', let the user play the last hand again.\n",
    "      * If the user inputs 'e', exit the game.\n",
    "      * If the user inputs anything else, tell them their input was invalid.\n",
    " \n",
    "    2) When done playing the hand, repeat from step 1\n",
    "    \"\"\"\n",
    "    # Initialize variables\n",
    "    currentHand = dict()\n",
    "    \n",
    "    # Start play-game loop\n",
    "    while True:\n",
    "        # Get user input on what to play\n",
    "        while True:\n",
    "            entry = input('Enter n to deal a new hand, r to replay the last hand, or e to end game: ')\n",
    "            \n",
    "            if entry in ['n', 'r', 'e']:\n",
    "                break    \n",
    "            else:\n",
    "                print('Invalid command.')\n",
    "        \n",
    "        # New random hand\n",
    "        if entry == 'n':\n",
    "            currentHand = dealHand(HAND_SIZE)\n",
    "            playHand(currentHand, wordList, HAND_SIZE)\n",
    "    \n",
    "        # Replay hand\n",
    "        elif entry == 'r':\n",
    "            if not currentHand:\n",
    "                print('You have not played a hand yet. Please play a new hand first!')\n",
    "            else:\n",
    "                playHand(currentHand, wordList, HAND_SIZE)\n",
    "    \n",
    "        # Exit game:\n",
    "        else:\n",
    "            break"
   ]
  },
  {
   "cell_type": "markdown",
   "metadata": {},
   "source": [
    "## Problem 7: You and Your Computer"
   ]
  },
  {
   "cell_type": "code",
   "execution_count": null,
   "metadata": {
    "collapsed": true
   },
   "outputs": [],
   "source": [
    "def playGame(wordList):\n",
    "    \"\"\"\n",
    "    Allow the user to play an arbitrary number of hands.\n",
    " \n",
    "    1) Asks the user to input 'n' or 'r' or 'e'.\n",
    "        * If the user inputs 'e', immediately exit the game.\n",
    "        * If the user inputs anything that's not 'n', 'r', or 'e', keep asking them again.\n",
    "\n",
    "    2) Asks the user to input a 'u' or a 'c'.\n",
    "        * If the user inputs anything that's not 'c' or 'u', keep asking them again.\n",
    "\n",
    "    3) Switch functionality based on the above choices:\n",
    "        * If the user inputted 'n', play a new (random) hand.\n",
    "        * Else, if the user inputted 'r', play the last hand again.\n",
    "          But if no hand was played, output \"You have not played a hand yet. \n",
    "          Please play a new hand first!\"\n",
    "        \n",
    "        * If the user inputted 'u', let the user play the game\n",
    "          with the selected hand, using playHand.\n",
    "        * If the user inputted 'c', let the computer play the \n",
    "          game with the selected hand, using compPlayHand.\n",
    "\n",
    "    4) After the computer or user has played the hand, repeat from step 1\n",
    "\n",
    "    wordList: list (string)\n",
    "    \"\"\"\n",
    "    # Initialize variables\n",
    "    currentHand = dict()\n",
    "    \n",
    "    # Start play-game loop\n",
    "    while True:\n",
    "        # Get user input on what to play\n",
    "        while True:\n",
    "            playStyle = input('Enter n to deal a new hand, r to replay the last hand, or e to end game: ')\n",
    "            \n",
    "            if playStyle in ['n', 'r', 'e']:\n",
    "                if playStyle == 'r' and not currentHand:\n",
    "                    print('You have not played a hand yet. Please play a new hand first!')\n",
    "                else:\n",
    "                    break    \n",
    "            else:\n",
    "                print('Invalid command.')\n",
    "        \n",
    "        # Specify user or computer player\n",
    "        while True and playStyle != 'e':\n",
    "            player = input('Enter u to have yourself play, c to have the computer play: ')\n",
    "            \n",
    "            if player in ['u', 'c']:\n",
    "                break    \n",
    "            else:\n",
    "                print('Invalid command.')\n",
    "                \n",
    "        # New random hand\n",
    "        if playStyle == 'n':\n",
    "            currentHand = dealHand(HAND_SIZE)\n",
    "            \n",
    "            if player == 'u':\n",
    "                playHand(currentHand, wordList, HAND_SIZE)\n",
    "            else:\n",
    "                compPlayHand(currentHand, wordList, HAND_SIZE)\n",
    "                \n",
    "        # Replay hand\n",
    "        elif playStyle == 'r':\n",
    "            if player == 'u':\n",
    "                playHand(currentHand, wordList, HAND_SIZE)\n",
    "            else:\n",
    "                compPlayHand(currentHand, wordList, HAND_SIZE)\n",
    "                    \n",
    "        # Exit game:\n",
    "        else:\n",
    "            break"
   ]
  }
 ],
 "metadata": {
  "kernelspec": {
   "display_name": "Python 3",
   "language": "python",
   "name": "python3"
  },
  "language_info": {
   "codemirror_mode": {
    "name": "ipython",
    "version": 3
   },
   "file_extension": ".py",
   "mimetype": "text/x-python",
   "name": "python",
   "nbconvert_exporter": "python",
   "pygments_lexer": "ipython3",
   "version": "3.6.0"
  }
 },
 "nbformat": 4,
 "nbformat_minor": 2
}
