{
 "cells": [
  {
   "cell_type": "markdown",
   "metadata": {},
   "source": [
    "# MITx 6.00.1x: Problem Set 2  \n",
    "Author: Leo Robinovitch"
   ]
  },
  {
   "cell_type": "markdown",
   "metadata": {},
   "source": [
    "## Problem 1:  \n",
    "Write a program to calculate the credit card balance after one year if a person only pays the minimum monthly payment required by the credit card company each month.\n",
    "\n",
    "The following variables contain values as described below:\n",
    "\n",
    "balance - the outstanding balance on the credit card\n",
    "\n",
    "annualInterestRate - annual interest rate as a decimal\n",
    "\n",
    "monthlyPaymentRate - minimum monthly payment rate as a decimal\n",
    "\n",
    "For each month, calculate statements on the monthly payment and remaining balance. At the end of 12 months, print out the remaining balance. Be sure to print out no more than two decimal digits of accuracy.\n",
    "\n",
    "Monthly interest rate= (Annual interest rate) / 12.0  \n",
    "  \n",
    "Minimum monthly payment = (Minimum monthly payment rate) x (Previous balance)  \n",
    "  \n",
    "Monthly unpaid balance = (Previous balance) - (Minimum monthly payment)  \n",
    "  \n",
    "Updated balance each month = (Monthly unpaid balance) + (Monthly interest rate x Monthly unpaid balance)"
   ]
  },
  {
   "cell_type": "code",
   "execution_count": null,
   "metadata": {},
   "outputs": [],
   "source": [
    "# Test Case 1:\n",
    "balance = 42\n",
    "annualInterestRate = 0.2\n",
    "monthlyPaymentRate = 0.04\n",
    "\n",
    "'''\n",
    "# Result Your Code Should Generate Below:\n",
    "Remaining balance: 31.38\n",
    "\n",
    "# To make sure you are doing calculation correctly, this is the \n",
    "# remaining balance you should be getting at each month for this example\n",
    "Month 1 Remaining balance: 40.99\n",
    "Month 2 Remaining balance: 40.01\n",
    "Month 3 Remaining balance: 39.05\n",
    "Month 4 Remaining balance: 38.11\n",
    "Month 5 Remaining balance: 37.2\n",
    "Month 6 Remaining balance: 36.3\n",
    "Month 7 Remaining balance: 35.43\n",
    "Month 8 Remaining balance: 34.58\n",
    "Month 9 Remaining balance: 33.75\n",
    "Month 10 Remaining balance: 32.94\n",
    "Month 11 Remaining balance: 32.15\n",
    "Month 12 Remaining balance: 31.38\n",
    "'''\n",
    "\n",
    "months = 12\n",
    "prevBalance = balance\n",
    "monthlyInterest = annualInterestRate / 12.0\n",
    "\n",
    "for month in range(months):    \n",
    "    minMonthlyPay = monthlyPaymentRate * prevBalance\n",
    "    monthlyBalance = prevBalance - minMonthlyPay\n",
    "    prevBalance = monthlyBalance + monthlyInterest * monthlyBalance\n",
    "    \n",
    "print('Remaining balane:', round(prevBalance, 2))\n"
   ]
  },
  {
   "cell_type": "markdown",
   "metadata": {},
   "source": [
    "## Problem 2:  \n",
    "Now write a program that calculates the minimum fixed monthly payment needed in order pay off a credit card balance within 12 months. By a fixed monthly payment, we mean a single number which does not change each month, but instead is a constant amount that will be paid each month.\n",
    "\n",
    "In this problem, we will not be dealing with a minimum monthly payment rate.\n",
    "\n",
    "The following variables contain values as described below:\n",
    "\n",
    "balance - the outstanding balance on the credit card\n",
    "\n",
    "annualInterestRate - annual interest rate as a decimal\n",
    "\n",
    "The program should print out one line: the lowest monthly payment that will pay off all debt in under 1 year.  \n",
    "\n",
    "Assume that the interest is compounded monthly according to the balance at the end of the month (after the payment for that month is made). The monthly payment must be a multiple of $10 and is the same for all months. Notice that it is possible for the balance to become negative using this payment scheme, which is okay. A summary of the required math is found below:\n",
    "\n",
    "Monthly interest rate = (Annual interest rate) / 12.0  \n",
    "  \n",
    "Monthly unpaid balance = (Previous balance) - (Minimum fixed monthly payment)  \n",
    "  \n",
    "Updated balance each month = (Monthly unpaid balance) + (Monthly interest rate x Monthly unpaid balance)"
   ]
  },
  {
   "cell_type": "code",
   "execution_count": 5,
   "metadata": {},
   "outputs": [
    {
     "name": "stdout",
     "output_type": "stream",
     "text": [
      "Lowest Payment: 310\n"
     ]
    }
   ],
   "source": [
    "# Test Case 1:\n",
    "balance = 3329\n",
    "annualInterestRate = 0.2\n",
    "'''\n",
    "Result Your Code Should Generate:\n",
    "-------------------\n",
    "Lowest Payment: 310\n",
    "'''\n",
    "\n",
    "months = 12\n",
    "monthlyInterest = annualInterestRate / 12.0\n",
    "tryPayment = 10\n",
    "\n",
    "def incompletePayment(payment):\n",
    "    prevBalance = balance\n",
    "    \n",
    "    for month in range(months):\n",
    "        monthlyBalance = prevBalance - payment\n",
    "        prevBalance = monthlyBalance + monthlyInterest * monthlyBalance\n",
    "    \n",
    "    return prevBalance >= 0\n",
    "\n",
    "while incompletePayment(tryPayment):\n",
    "    tryPayment += 10\n",
    "\n",
    "print('Lowest Payment:', tryPayment)"
   ]
  },
  {
   "cell_type": "markdown",
   "metadata": {},
   "source": [
    "## Problem 3:  \n",
    "You'll notice that in Problem 2, your monthly payment had to be a multiple of 10. Why did we make it that way? You can try running your code locally so that the payment can be any dollar and cent amount (in other words, the monthly payment is a multiple of 0.01). Does your code still work? It should, but you may notice that your code runs more slowly, especially in cases with very large balances and interest rates. (Note: when your code is running on our servers, there are limits on the amount of computing time each submission is allowed, so your observations from running this experiment on the grading system might be limited to an error message complaining about too much time taken.)\n",
    "\n",
    "Well then, how can we calculate a more accurate fixed monthly payment than we did in Problem 2 without running into the problem of slow code? We can make this program run faster using a technique introduced in lecture - bisection search!\n",
    "\n",
    "The following variables contain values as described below:\n",
    "\n",
    "balance - the outstanding balance on the credit card\n",
    "\n",
    "annualInterestRate - annual interest rate as a decimal\n",
    "\n",
    "To recap the problem: we are searching for the smallest monthly payment such that we can pay off the entire balance within a year. What is a reasonable lower bound for this payment value? $0 is the obvious anwer, but you can do better than that. If there was no interest, the debt can be paid off by monthly payments of one-twelfth of the original balance, so we must pay at least this much every month. One-twelfth of the original balance is a good lower bound.\n",
    "\n",
    "What is a good upper bound? Imagine that instead of paying monthly, we paid off the entire balance at the end of the year. What we ultimately pay must be greater than what we would've paid in monthly installments, because the interest was compounded on the balance we didn't pay off each month. So a good upper bound for the monthly payment would be one-twelfth of the balance, after having its interest compounded monthly for an entire year.\n",
    "\n",
    "In short:\n",
    "\n",
    "Monthly interest rate = (Annual interest rate) / 12.0  \n",
    "Monthly payment lower bound = Balance / 12  \n",
    "Monthly payment upper bound = (Balance x (1 + Monthly interest rate)^12) / 12.0  \n",
    "\n",
    "Write a program that uses these bounds and bisection search (for more info check out the Wikipedia page on bisection search) to find the smallest monthly payment to the cent (no more multiples of 10) such that we can pay off the debt within a year. Try it out with large inputs, and notice how fast it is (try the same large inputs in your solution to Problem 2 to compare!). Produce the same return value as you did in Problem 2."
   ]
  },
  {
   "cell_type": "code",
   "execution_count": 28,
   "metadata": {},
   "outputs": [
    {
     "name": "stdout",
     "output_type": "stream",
     "text": [
      "Lowest Payment: 29157.09\n"
     ]
    }
   ],
   "source": [
    "# Test Case 1:\n",
    "balance = 320000\n",
    "annualInterestRate = 0.2\n",
    "'''\n",
    "Result Your Code Should Generate:\n",
    "-------------------\n",
    "Lowest Payment: 29157.09\n",
    "'''\n",
    "\n",
    "months = 12                \n",
    "monthlyInterest = annualInterestRate / 12.0\n",
    "\n",
    "def balanceLeft(payment):\n",
    "    prevBalance = balance\n",
    "    \n",
    "    for month in range(months):\n",
    "        monthlyBalance = prevBalance - payment\n",
    "        prevBalance = monthlyBalance + monthlyInterest * monthlyBalance\n",
    "    \n",
    "    return prevBalance\n",
    "\n",
    "# Bisection search:\n",
    "low = balance / 12\n",
    "high = (balance * (1 + monthlyInterest)**12) / 12.0\n",
    "payment = (low + high) / 2\n",
    "\n",
    "while abs(balanceLeft(payment)) >= 0.01:\n",
    "    \n",
    "    if balanceLeft(payment) < 0:\n",
    "        high = (low + high) / 2\n",
    "    else:\n",
    "        low = (low + high) / 2\n",
    "        \n",
    "    payment = (low + high) / 2\n",
    "    \n",
    "print('Lowest Payment:', round(payment,2))"
   ]
  }
 ],
 "metadata": {
  "kernelspec": {
   "display_name": "Python 3",
   "language": "python",
   "name": "python3"
  },
  "language_info": {
   "codemirror_mode": {
    "name": "ipython",
    "version": 3
   },
   "file_extension": ".py",
   "mimetype": "text/x-python",
   "name": "python",
   "nbconvert_exporter": "python",
   "pygments_lexer": "ipython3",
   "version": "3.6.0"
  }
 },
 "nbformat": 4,
 "nbformat_minor": 2
}
