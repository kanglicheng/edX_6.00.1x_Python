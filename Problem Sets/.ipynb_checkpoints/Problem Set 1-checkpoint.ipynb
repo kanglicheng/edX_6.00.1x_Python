{
 "cells": [
  {
   "cell_type": "markdown",
   "metadata": {},
   "source": [
    "# Problem Set 1"
   ]
  },
  {
   "cell_type": "markdown",
   "metadata": {},
   "source": [
    "## Problem 1:  \n",
    "Write a program that counts up the number of vowels contained in the string s. Valid vowels are: 'a', 'e', 'i', 'o', and 'u'."
   ]
  },
  {
   "cell_type": "code",
   "execution_count": 2,
   "metadata": {},
   "outputs": [
    {
     "name": "stdout",
     "output_type": "stream",
     "text": [
      "Number of vowels: 5\n"
     ]
    }
   ],
   "source": [
    "s ='azcbobobegghakl'\n",
    "\n",
    "vowels = 'aeiou'\n",
    "numvow = 0\n",
    "\n",
    "for letter in s:\n",
    "    if letter in vowels:\n",
    "        numvow += 1\n",
    "\n",
    "print('Number of vowels:', numvow)"
   ]
  },
  {
   "cell_type": "markdown",
   "metadata": {},
   "source": [
    "## Problem 2:  \n",
    "Write a program that prints the number of times the string 'bob' occurs in s."
   ]
  },
  {
   "cell_type": "code",
   "execution_count": 3,
   "metadata": {},
   "outputs": [
    {
     "name": "stdout",
     "output_type": "stream",
     "text": [
      "Number of times bob occurs is: 2\n"
     ]
    }
   ],
   "source": [
    "s = 'azcbobobegghakl'\n",
    "\n",
    "word = 'bob'\n",
    "numwords = 0\n",
    "\n",
    "for start in range(len(s) - len(word) + 1):\n",
    "    if s[start:start + len(word)] == 'bob':\n",
    "        numwords += 1\n",
    "\n",
    "print('Number of times', word, 'occurs is:', numwords)"
   ]
  },
  {
   "cell_type": "markdown",
   "metadata": {},
   "source": [
    "## Problem 3:  \n",
    "Write a program that prints the longest substring of s in which the letters occur in alphabetical order."
   ]
  },
  {
   "cell_type": "code",
   "execution_count": 4,
   "metadata": {},
   "outputs": [
    {
     "name": "stdout",
     "output_type": "stream",
     "text": [
      "Longest substring in alphabetical order is: beggh\n"
     ]
    }
   ],
   "source": [
    "s = 'azcbobobegghakl'\n",
    "\n",
    "substrings = []\n",
    "substring = ''\n",
    "alphabet = 'abcdefghijklmnopqrstuvwxyz!'\n",
    "\n",
    "for char, nextchar in zip(s, s[1:] + '!'):\n",
    "#    print(char,nextchar)\n",
    "    if alphabet.index(char) <= alphabet.index(nextchar):\n",
    "        substring += char\n",
    "#        print('Substring:', substring)\n",
    "    else:\n",
    "        substring += char\n",
    "        substrings.append(substring)\n",
    "        substring = ''\n",
    "#        print(substrings)\n",
    "        \n",
    "    if nextchar == '!':\n",
    "        substrings.append(substring)\n",
    "try:\n",
    "    longest = max(substrings, key=len)\n",
    "except:\n",
    "    longest = s\n",
    "    \n",
    "print('Longest substring in alphabetical order is:', longest)"
   ]
  }
 ],
 "metadata": {
  "kernelspec": {
   "display_name": "Python 3",
   "language": "python",
   "name": "python3"
  },
  "language_info": {
   "codemirror_mode": {
    "name": "ipython",
    "version": 3
   },
   "file_extension": ".py",
   "mimetype": "text/x-python",
   "name": "python",
   "nbconvert_exporter": "python",
   "pygments_lexer": "ipython3",
   "version": "3.6.0"
  }
 },
 "nbformat": 4,
 "nbformat_minor": 2
}
